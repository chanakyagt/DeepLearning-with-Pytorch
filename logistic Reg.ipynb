{
 "cells": [
  {
   "cell_type": "code",
   "execution_count": 2,
   "id": "044eb7a0-cb8e-4c43-be60-3b4c52faa1b3",
   "metadata": {},
   "outputs": [],
   "source": [
    "import torch\n",
    "import torch.nn as nn\n",
    "import matplotlib.pyplot as pylot\n",
    "import numpy as np\n",
    "import pandas as pd\n",
    "from sklearn.preprocessing import StandardScaler\n",
    "from sklearn.model_selection import train_test_split"
   ]
  },
  {
   "cell_type": "code",
   "execution_count": 78,
   "id": "dc8a041d-8565-4bf7-99f4-3d3d0fc20598",
   "metadata": {
    "scrolled": true
   },
   "outputs": [],
   "source": [
    "data=pd.read_csv(r\"C:\\Users\\Chana\\Downloads\\convertcsv (2).csv\")\n",
    "# data.info()"
   ]
  },
  {
   "cell_type": "code",
   "execution_count": 4,
   "id": "508a0b44-4e42-4f8d-ac25-c78188e2b112",
   "metadata": {},
   "outputs": [],
   "source": [
    "data['result']=data['label'].map({'yes':1,'no':0})\n",
    "data = data.drop('label', axis=1)\n",
    "data_test,data_train=train_test_split(data,test_size=0.2,random_state=42)\n",
    "inp_test=data_test[['age','income','credit_score']]\n",
    "inp_train=data_train[['age','income','credit_score']]\n",
    "out_test=data_test['result']\n",
    "out_train=data_train['result']"
   ]
  },
  {
   "cell_type": "code",
   "execution_count": 44,
   "id": "710044d4-c56e-4556-923c-72f4814df1d9",
   "metadata": {},
   "outputs": [],
   "source": [
    "scaler=StandardScaler()\n",
    "inp_train=scalar.fit_transform(inp_train)\n",
    "inp_test=scalar.transform(inp_test)"
   ]
  },
  {
   "cell_type": "code",
   "execution_count": 56,
   "id": "5dcf322b-96c5-4527-aaa0-2ba08ae68e13",
   "metadata": {
    "scrolled": true
   },
   "outputs": [],
   "source": [
    "# print(inp_test)\n",
    "# print(inp_train)\n"
   ]
  },
  {
   "cell_type": "code",
   "execution_count": 84,
   "id": "34cdb24a-ca78-448d-b8af-a67fe940b6e8",
   "metadata": {},
   "outputs": [],
   "source": [
    "x_test = torch.tensor(inp_test, dtype=torch.float32) \n",
    "x_train = torch.tensor(inp_train, dtype=torch.float32)  \n",
    "y_test= torch.tensor(out_test.values, dtype=torch.float32).unsqueeze(1) \n",
    "y_train = torch.tensor(out_train.values, dtype=torch.float32).unsqueeze(1)\n",
    "# x_test,x_train,y_test,y_train"
   ]
  },
  {
   "cell_type": "code",
   "execution_count": 88,
   "id": "9fe31777-d666-4f1c-b450-f5419c594e23",
   "metadata": {},
   "outputs": [],
   "source": [
    "class LinearRegression(nn.Module):\n",
    "    def __init__(self):\n",
    "        super().__init__()\n",
    "        self.Layer=nn.Linear(3,1)\n",
    "    def forward(self,x):\n",
    "        out=self.Layer(x)\n",
    "        return torch.sigmoid(out)"
   ]
  },
  {
   "cell_type": "code",
   "execution_count": 90,
   "id": "b07d6317-e5de-42a6-938d-2d626b6cfad0",
   "metadata": {},
   "outputs": [
    {
     "data": {
      "text/plain": [
       "LinearRegression(\n",
       "  (Layer): Linear(in_features=3, out_features=1, bias=True)\n",
       ")"
      ]
     },
     "execution_count": 90,
     "metadata": {},
     "output_type": "execute_result"
    }
   ],
   "source": [
    "model=LinearRegression()\n",
    "model"
   ]
  },
  {
   "cell_type": "code",
   "execution_count": 92,
   "id": "4ce58321-1a27-4a72-b52a-6d3b83b4d847",
   "metadata": {},
   "outputs": [],
   "source": [
    "epochs=100\n",
    "lossfn=torch.nn.BCELoss()\n",
    "optim=torch.optim.Adam(model.parameters(),lr=0.05)"
   ]
  },
  {
   "cell_type": "code",
   "execution_count": 96,
   "id": "d95bb34e-8ed7-46e6-a223-d2ef26fb62f0",
   "metadata": {},
   "outputs": [
    {
     "data": {
      "text/plain": [
       "OrderedDict([('Layer.weight', tensor([[-0.2446,  0.3026, -0.4764]])),\n",
       "             ('Layer.bias', tensor([-0.1418]))])"
      ]
     },
     "execution_count": 96,
     "metadata": {},
     "output_type": "execute_result"
    }
   ],
   "source": [
    "model.state_dict()"
   ]
  },
  {
   "cell_type": "code",
   "execution_count": 104,
   "id": "29070d85-6320-4f3c-b8d2-4add2272f96d",
   "metadata": {},
   "outputs": [
    {
     "name": "stdout",
     "output_type": "stream",
     "text": [
      "epoch-0/100----->loss:0.09164345264434814\n",
      "epoch-1/100----->loss:0.09131854772567749\n",
      "epoch-2/100----->loss:0.0909959003329277\n",
      "epoch-3/100----->loss:0.0906754583120346\n",
      "epoch-4/100----->loss:0.0903572365641594\n",
      "epoch-5/100----->loss:0.09004118293523788\n",
      "epoch-6/100----->loss:0.08972729742527008\n",
      "epoch-7/100----->loss:0.0894155204296112\n",
      "epoch-8/100----->loss:0.08910584449768066\n",
      "epoch-9/100----->loss:0.08879825472831726\n",
      "epoch-10/100----->loss:0.08849272131919861\n",
      "epoch-11/100----->loss:0.08818922191858292\n",
      "epoch-12/100----->loss:0.0878877341747284\n",
      "epoch-13/100----->loss:0.08758825063705444\n",
      "epoch-14/100----->loss:0.08729073405265808\n",
      "epoch-15/100----->loss:0.08699516206979752\n",
      "epoch-16/100----->loss:0.08670153468847275\n",
      "epoch-17/100----->loss:0.08640976250171661\n",
      "epoch-18/100----->loss:0.08611992746591568\n",
      "epoch-19/100----->loss:0.08583194017410278\n",
      "epoch-20/100----->loss:0.08554579317569733\n",
      "epoch-21/100----->loss:0.08526148647069931\n",
      "epoch-22/100----->loss:0.08497898280620575\n",
      "epoch-23/100----->loss:0.08469826728105545\n",
      "epoch-24/100----->loss:0.08441931009292603\n",
      "epoch-25/100----->loss:0.08414212614297867\n",
      "epoch-26/100----->loss:0.08386668562889099\n",
      "epoch-27/100----->loss:0.08359293639659882\n",
      "epoch-28/100----->loss:0.08332089334726334\n",
      "epoch-29/100----->loss:0.08305052667856216\n",
      "epoch-30/100----->loss:0.0827818363904953\n",
      "epoch-31/100----->loss:0.08251476287841797\n",
      "epoch-32/100----->loss:0.08224934339523315\n",
      "epoch-33/100----->loss:0.08198554068803787\n",
      "epoch-34/100----->loss:0.08172334730625153\n",
      "epoch-35/100----->loss:0.08146272599697113\n",
      "epoch-36/100----->loss:0.08120367676019669\n",
      "epoch-37/100----->loss:0.0809461697936058\n",
      "epoch-38/100----->loss:0.08069020509719849\n",
      "epoch-39/100----->loss:0.08043575286865234\n",
      "epoch-40/100----->loss:0.08018282055854797\n",
      "epoch-41/100----->loss:0.07993137091398239\n",
      "epoch-42/100----->loss:0.079681396484375\n",
      "epoch-43/100----->loss:0.07943291962146759\n",
      "epoch-44/100----->loss:0.079185850918293\n",
      "epoch-45/100----->loss:0.07894022017717361\n",
      "epoch-46/100----->loss:0.07869601249694824\n",
      "epoch-47/100----->loss:0.07845323532819748\n",
      "epoch-48/100----->loss:0.07821184396743774\n",
      "epoch-49/100----->loss:0.07797183841466904\n",
      "epoch-50/100----->loss:0.07773317396640778\n",
      "epoch-51/100----->loss:0.07749590277671814\n",
      "epoch-52/100----->loss:0.07725996524095535\n",
      "epoch-53/100----->loss:0.07702535390853882\n",
      "epoch-54/100----->loss:0.07679206877946854\n",
      "epoch-55/100----->loss:0.07656008750200272\n",
      "epoch-56/100----->loss:0.07632939517498016\n",
      "epoch-57/100----->loss:0.07609998434782028\n",
      "epoch-58/100----->loss:0.07587184756994247\n",
      "epoch-59/100----->loss:0.07564498484134674\n",
      "epoch-60/100----->loss:0.0754193514585495\n",
      "epoch-61/100----->loss:0.07519497722387314\n",
      "epoch-62/100----->loss:0.07497181743383408\n",
      "epoch-63/100----->loss:0.07474987208843231\n",
      "epoch-64/100----->loss:0.07452912628650665\n",
      "epoch-65/100----->loss:0.0743095874786377\n",
      "epoch-66/100----->loss:0.07409124076366425\n",
      "epoch-67/100----->loss:0.07387405633926392\n",
      "epoch-68/100----->loss:0.07365801930427551\n",
      "epoch-69/100----->loss:0.07344315946102142\n",
      "epoch-70/100----->loss:0.07322943955659866\n",
      "epoch-71/100----->loss:0.07301683723926544\n",
      "epoch-72/100----->loss:0.07280535250902176\n",
      "epoch-73/100----->loss:0.0725950077176094\n",
      "epoch-74/100----->loss:0.0723857581615448\n",
      "epoch-75/100----->loss:0.07217758893966675\n",
      "epoch-76/100----->loss:0.07197052240371704\n",
      "epoch-77/100----->loss:0.07176452875137329\n",
      "epoch-78/100----->loss:0.0715596079826355\n",
      "epoch-79/100----->loss:0.07135573029518127\n",
      "epoch-80/100----->loss:0.07115290313959122\n",
      "epoch-81/100----->loss:0.07095112651586533\n",
      "epoch-82/100----->loss:0.07075037062168121\n",
      "epoch-83/100----->loss:0.07055064290761948\n",
      "epoch-84/100----->loss:0.07035195082426071\n",
      "epoch-85/100----->loss:0.07015423476696014\n",
      "epoch-86/100----->loss:0.06995752453804016\n",
      "epoch-87/100----->loss:0.06976179778575897\n",
      "epoch-88/100----->loss:0.06956708431243896\n",
      "epoch-89/100----->loss:0.06937332451343536\n",
      "epoch-90/100----->loss:0.06918053328990936\n",
      "epoch-91/100----->loss:0.06898868829011917\n",
      "epoch-92/100----->loss:0.06879780441522598\n",
      "epoch-93/100----->loss:0.0686078667640686\n",
      "epoch-94/100----->loss:0.06841886043548584\n",
      "epoch-95/100----->loss:0.0682307705283165\n",
      "epoch-96/100----->loss:0.06804361939430237\n",
      "epoch-97/100----->loss:0.06785735487937927\n",
      "epoch-98/100----->loss:0.06767202913761139\n",
      "epoch-99/100----->loss:0.06748759001493454\n"
     ]
    }
   ],
   "source": [
    "for i in range (epochs):\n",
    "    model.train()\n",
    "    out=model(x_train)\n",
    "    loss=lossfn(out,y_train)\n",
    "    optim.zero_grad()\n",
    "    loss.backward()\n",
    "    optim.step()\n",
    "    print(f'epoch-{i}/100----->loss:{loss}')\n",
    "\n"
   ]
  },
  {
   "cell_type": "code",
   "execution_count": 106,
   "id": "8198880f-ecab-4aa8-b034-495651a92dc5",
   "metadata": {},
   "outputs": [
    {
     "data": {
      "text/plain": [
       "OrderedDict([('Layer.weight', tensor([[-6.2964, -1.9495,  0.8643]])),\n",
       "             ('Layer.bias', tensor([1.1333]))])"
      ]
     },
     "execution_count": 106,
     "metadata": {},
     "output_type": "execute_result"
    }
   ],
   "source": [
    "model.state_dict()"
   ]
  },
  {
   "cell_type": "code",
   "execution_count": 112,
   "id": "966b3369-9d8b-4947-ae88-14a681a0700e",
   "metadata": {},
   "outputs": [],
   "source": [
    "model.eval()\n",
    "with torch.inference_mode():\n",
    "    y_preds=model(x_test)"
   ]
  },
  {
   "cell_type": "code",
   "execution_count": 122,
   "id": "9d4b77fe-b973-4438-b01a-50d17ef2e037",
   "metadata": {},
   "outputs": [
    {
     "data": {
      "text/plain": [
       "tensor(0.9231)"
      ]
     },
     "execution_count": 122,
     "metadata": {},
     "output_type": "execute_result"
    }
   ],
   "source": [
    "y_preds = torch.where(y_preds >= 0.7, torch.tensor(1.0), torch.tensor(0.0))\n",
    "accuracy = (y_preds == y_test).float().mean()\n",
    "accuracy\n",
    "# tensor(0.9231)"
   ]
  },
  {
   "cell_type": "code",
   "execution_count": null,
   "id": "01d14e4b-8c94-4fa1-ac71-f886e1e0ef3f",
   "metadata": {},
   "outputs": [],
   "source": []
  }
 ],
 "metadata": {
  "kernelspec": {
   "display_name": "Python 3 (ipykernel)",
   "language": "python",
   "name": "python3"
  },
  "language_info": {
   "codemirror_mode": {
    "name": "ipython",
    "version": 3
   },
   "file_extension": ".py",
   "mimetype": "text/x-python",
   "name": "python",
   "nbconvert_exporter": "python",
   "pygments_lexer": "ipython3",
   "version": "3.12.4"
  }
 },
 "nbformat": 4,
 "nbformat_minor": 5
}
