{
 "cells": [
  {
   "cell_type": "code",
   "execution_count": 1,
   "id": "c557122c-6d57-4a41-adf7-931c4494fc76",
   "metadata": {},
   "outputs": [],
   "source": [
    "#trying to classify FashionMNIST dataset"
   ]
  },
  {
   "cell_type": "code",
   "execution_count": 2,
   "id": "bf5b6d5c-1a99-415a-8b85-dc7ba3607e9d",
   "metadata": {},
   "outputs": [
    {
     "name": "stdout",
     "output_type": "stream",
     "text": [
      "Requirement already satisfied: torchvision in c:\\users\\chana\\anaconda3\\lib\\site-packages (0.19.1)\n",
      "Requirement already satisfied: numpy in c:\\users\\chana\\anaconda3\\lib\\site-packages (from torchvision) (1.26.4)\n",
      "Requirement already satisfied: torch==2.4.1 in c:\\users\\chana\\anaconda3\\lib\\site-packages (from torchvision) (2.4.1)\n",
      "Requirement already satisfied: pillow!=8.3.*,>=5.3.0 in c:\\users\\chana\\anaconda3\\lib\\site-packages (from torchvision) (10.3.0)\n",
      "Requirement already satisfied: filelock in c:\\users\\chana\\anaconda3\\lib\\site-packages (from torch==2.4.1->torchvision) (3.13.1)\n",
      "Requirement already satisfied: typing-extensions>=4.8.0 in c:\\users\\chana\\anaconda3\\lib\\site-packages (from torch==2.4.1->torchvision) (4.11.0)\n",
      "Requirement already satisfied: sympy in c:\\users\\chana\\anaconda3\\lib\\site-packages (from torch==2.4.1->torchvision) (1.12)\n",
      "Requirement already satisfied: networkx in c:\\users\\chana\\anaconda3\\lib\\site-packages (from torch==2.4.1->torchvision) (3.2.1)\n",
      "Requirement already satisfied: jinja2 in c:\\users\\chana\\anaconda3\\lib\\site-packages (from torch==2.4.1->torchvision) (3.1.4)\n",
      "Requirement already satisfied: fsspec in c:\\users\\chana\\anaconda3\\lib\\site-packages (from torch==2.4.1->torchvision) (2024.3.1)\n",
      "Requirement already satisfied: setuptools in c:\\users\\chana\\anaconda3\\lib\\site-packages (from torch==2.4.1->torchvision) (69.5.1)\n",
      "Requirement already satisfied: MarkupSafe>=2.0 in c:\\users\\chana\\anaconda3\\lib\\site-packages (from jinja2->torch==2.4.1->torchvision) (2.1.3)\n",
      "Requirement already satisfied: mpmath>=0.19 in c:\\users\\chana\\anaconda3\\lib\\site-packages (from sympy->torch==2.4.1->torchvision) (1.3.0)\n"
     ]
    }
   ],
   "source": [
    "!pip install --upgrade torchvision\n"
   ]
  },
  {
   "cell_type": "code",
   "execution_count": 3,
   "id": "5589f2e8-2f2d-4dea-abb1-37283cc6f631",
   "metadata": {},
   "outputs": [],
   "source": [
    "import torch\n",
    "import torch.nn as nn\n",
    "import numpy as numpy\n",
    "import matplotlib.pyplot as plt\n",
    "from torch.utils.data import Dataset,DataLoader\n",
    "from torchvision import datasets,transforms\n",
    "import numpy as np"
   ]
  },
  {
   "cell_type": "code",
   "execution_count": 4,
   "id": "5e88f4bb-2c33-4284-b998-6710c8c8985d",
   "metadata": {},
   "outputs": [],
   "source": [
    "train_dataset=datasets.FashionMNIST(root='/datasets',train=True,transform=transforms.ToTensor(),download=True)\n",
    "test_dataset=datasets.FashionMNIST(root='/datasets',train=False,transform=transforms.ToTensor())"
   ]
  },
  {
   "cell_type": "code",
   "execution_count": 5,
   "id": "99b8cd99-9454-4ebb-a662-ec523af45d3e",
   "metadata": {},
   "outputs": [
    {
     "data": {
      "text/plain": [
       "Dataset FashionMNIST\n",
       "    Number of datapoints: 60000\n",
       "    Root location: /datasets\n",
       "    Split: Train\n",
       "    StandardTransform\n",
       "Transform: ToTensor()"
      ]
     },
     "execution_count": 5,
     "metadata": {},
     "output_type": "execute_result"
    }
   ],
   "source": [
    "train_dataset"
   ]
  },
  {
   "cell_type": "code",
   "execution_count": 6,
   "id": "51838103-4125-4c93-aef1-053901b68ecc",
   "metadata": {},
   "outputs": [
    {
     "data": {
      "text/plain": [
       "Dataset FashionMNIST\n",
       "    Number of datapoints: 10000\n",
       "    Root location: /datasets\n",
       "    Split: Test\n",
       "    StandardTransform\n",
       "Transform: ToTensor()"
      ]
     },
     "execution_count": 6,
     "metadata": {},
     "output_type": "execute_result"
    }
   ],
   "source": [
    "test_dataset"
   ]
  },
  {
   "cell_type": "code",
   "execution_count": 7,
   "id": "9cd99394-bb68-4c20-8a5e-f3538c7ed35a",
   "metadata": {},
   "outputs": [],
   "source": [
    "train_Loader=DataLoader(train_dataset,batch_size=64,shuffle=True)\n"
   ]
  },
  {
   "cell_type": "code",
   "execution_count": 21,
   "id": "43ce99ea-e6cd-4f3d-80a5-b0ecf343688a",
   "metadata": {},
   "outputs": [
    {
     "data": {
      "text/plain": [
       "938"
      ]
     },
     "execution_count": 21,
     "metadata": {},
     "output_type": "execute_result"
    }
   ],
   "source": [
    "len(train_Loader)"
   ]
  },
  {
   "cell_type": "code",
   "execution_count": null,
   "id": "5c720579-ce81-4859-830e-69da7c860d08",
   "metadata": {},
   "outputs": [],
   "source": [
    "train_Loader"
   ]
  },
  {
   "cell_type": "code",
   "execution_count": null,
   "id": "7057e393-a712-48bb-be1b-36ea38111a4b",
   "metadata": {},
   "outputs": [],
   "source": [
    "class LogisticRegression(nn.Module):\n",
    "    def __init__(self,inf,outf):\n",
    "        super().__init__()\n",
    "        self.layer=nn.Linear(inf,outf)\n",
    "    def forward(self,x):\n",
    "        out=self.layer(x)\n",
    "        return out\n",
    "        "
   ]
  },
  {
   "cell_type": "code",
   "execution_count": null,
   "id": "13ec98bc-7aab-4d11-8252-b86378587c38",
   "metadata": {},
   "outputs": [],
   "source": [
    "device = 'cuda' if torch.cuda.is_available() else 'cpu'\n",
    "device"
   ]
  },
  {
   "cell_type": "code",
   "execution_count": null,
   "id": "28cc99d8-68e8-4c62-84c8-b78526a198b7",
   "metadata": {},
   "outputs": [],
   "source": [
    "model=LogisticRegression(784,10)\n",
    "model.state_dict()\n",
    "model.to(device=device)\n",
    "next(model.parameters()).device "
   ]
  },
  {
   "cell_type": "code",
   "execution_count": null,
   "id": "73625776-3a05-478e-b59c-3201cc8b815d",
   "metadata": {},
   "outputs": [],
   "source": [
    "epochs=20\n",
    "lossfunc=torch.nn.CrossEntropyLoss()\n",
    "optimizer=torch.optim.Adam(model.parameters(),lr=0.0001)"
   ]
  },
  {
   "cell_type": "code",
   "execution_count": null,
   "id": "bb4beb19-3a47-45b0-934c-de422d924d26",
   "metadata": {
    "scrolled": true
   },
   "outputs": [],
   "source": [
    "items.view(items.size(0),-1)"
   ]
  },
  {
   "cell_type": "code",
   "execution_count": null,
   "id": "63e87f05-0dac-4428-b2dd-5436e92ed868",
   "metadata": {},
   "outputs": [],
   "source": [
    "for i in range(1,epochs+1):\n",
    "    print(f\"-------------------------epoch:{i}------------------------\")\n",
    "    running_loss=0\n",
    "    running_accuracy=0\n",
    "    model.train()\n",
    "    for j,batch in enumerate(train_Loader,start=1):\n",
    "        item,label=batch\n",
    "        item = item.view(item.size(0),-1)\n",
    "        item=item.to(device=device)\n",
    "        label=label.to(device=device)\n",
    "        model.train()\n",
    "        out=model(item)\n",
    "        loss=lossfunc(out,label)\n",
    "        running_loss+=loss.item()\n",
    "        _,pred=torch.max(out,1)\n",
    "        running_accuracy+=(pred==label).float().mean()\n",
    "        optimizer.zero_grad()\n",
    "        loss.backward()\n",
    "        optimizer.step()\n",
    "        if(j%300==0):\n",
    "            print(f'batch {j} ke baad loss {running_loss/j} acc:{running_accuracy/j}')\n",
    "    print(f\"------------------------- epoch:{i}finished ------------------------\")\n",
    "    print(f\"--------accuracy:{running_accuracy/j} -----loss:{running_loss/j}-----\")   \n",
    "\n",
    "# ------------------------- epoch:20finished ------------------------\n",
    "# --------accuracy:0.8509461879730225 -----loss:0.4392388158324939-----"
   ]
  },
  {
   "cell_type": "code",
   "execution_count": null,
   "id": "3c9a0540-1628-4423-bc9c-94bf950f021f",
   "metadata": {},
   "outputs": [],
   "source": [
    "test_loader=DataLoader(test_dataset,batch_size=10000)\n",
    "items,labels=list(test_loader)[0]\n",
    "items=items.to(device=device)\n",
    "labels=labels.to(device=device)\n",
    "model.eval()\n",
    "accuracy=0\n",
    "with torch.inference_mode():\n",
    "    out=model(items.view(items.size(0),-1))\n",
    "    _,preds=torch.max(out,dim=1)\n",
    "    accuracy=(preds==labels).float().mean()\n",
    "print(accuracy)\n",
    "#tensor(0.8359, device='cuda:0')"
   ]
  },
  {
   "cell_type": "code",
   "execution_count": null,
   "id": "48056ad8-066b-43db-b995-ddab4675e5e1",
   "metadata": {},
   "outputs": [],
   "source": [
    "#i made this part to check weatcher there is use of mini batch in ev\n",
    "\n",
    "testing_loader=DataLoader(test_dataset,batch_size=64)\n",
    "# list(testing_loader)\n",
    "model.eval()\n",
    "accu=0\n",
    "with torch.inference_mode():\n",
    "    for i,data in enumerate(test_Loader):\n",
    "        img,label=data\n",
    "        img=img.to(device=device)\n",
    "        label=label.to(device=device)\n",
    "        img=img.view(img.size(0),-1)\n",
    "        out=model(img)\n",
    "        _,preds=torch.max(out,dim=1)\n",
    "        accu+=(preds==label).float().mean()\n",
    "print(accu/157)\n",
    "\n",
    "#tensor(0.8358, device='cuda:0')\n",
    "\n",
    "    "
   ]
  }
 ],
 "metadata": {
  "kernelspec": {
   "display_name": "Python 3 (ipykernel)",
   "language": "python",
   "name": "python3"
  },
  "language_info": {
   "codemirror_mode": {
    "name": "ipython",
    "version": 3
   },
   "file_extension": ".py",
   "mimetype": "text/x-python",
   "name": "python",
   "nbconvert_exporter": "python",
   "pygments_lexer": "ipython3",
   "version": "3.12.4"
  }
 },
 "nbformat": 4,
 "nbformat_minor": 5
}
